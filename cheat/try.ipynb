{
 "cells": [
  {
   "cell_type": "markdown",
   "metadata": {},
   "source": [
    "### Logging 模块\n",
    "\n",
    "- data, object type\n",
    "- print to terminal\n",
    "- write to log.txt\n",
    "- different level?"
   ]
  },
  {
   "cell_type": "code",
   "execution_count": 1,
   "metadata": {
    "collapsed": true
   },
   "outputs": [],
   "source": [
    "import logging"
   ]
  },
  {
   "cell_type": "markdown",
   "metadata": {},
   "source": [
    "### Quick Start\n",
    "\n",
    "导入模块后直接`logging.waring()`，`logging.error()`简单粗暴地调用即可。默认的`level`是`DEBUG`，所以`warning`会打印出信息，`info`级别更低，不会输出信息。如果你不知道`level`等参数的意义请后面解释，淡定，继续往下看。  \n",
    "\n",
    "如果不特别配置，`logging`模块将日志打印到屏幕上(stdout)。"
   ]
  },
  {
   "cell_type": "code",
   "execution_count": 2,
   "metadata": {
    "collapsed": true
   },
   "outputs": [],
   "source": [
    "#!/usr/local/bin/python\n",
    "# -*- coding:utf-8 -*-\n",
    "import logging\n",
    "logging.warning('Watch out!')  # print message to console\n",
    "logging.info('I told you so')  # will not print anything"
   ]
  },
  {
   "cell_type": "markdown",
   "metadata": {},
   "source": [
    "### `Log`写入文件\n",
    "\n",
    "更常见的情形是把信息记录在`log`文件里。需要用`logging.basicConfig()`设置文件名以及`level`等参数，常见的`level`见下表。  \n",
    "\n",
    "|Level|Value|Usage|\n",
    "|--|--|--|\n",
    "|CRITICAL|50|严重错误，表明程序已不能继续运行了。|\n",
    "|ERROR|40|严重的问题，程序已不能执行一些功能了|\n",
    "|WARNING|30|有意外，将来可能发生问题（如‘磁盘满了’），但依然可用|\n",
    "|INFO|20|证明事情按预期工作。|\n",
    "|DEBUG|10|详细信息，调试问题时会感兴趣。|  \n",
    "\n",
    "如果设置`level`为`INFO`，那么`DEBUG`级别的信息就不会输出。常见的函数接口有`debug()`, `info()`, `warning()`, `error()` and `critical()`，分别对应`log`不同严重级别的信息。  \n",
    "\n",
    "注意把下面代码写入脚本（直接在`terminal`里不会生成文件），比如`test_log.py`。"
   ]
  },
  {
   "cell_type": "code",
   "execution_count": 3,
   "metadata": {
    "collapsed": true
   },
   "outputs": [],
   "source": [
    "import logging\n",
    "logging.basicConfig(filename='example.log',level=logging.DEBUG,filemode='w')\n",
    "# filemode = 'w' 每次运行，重写log\n",
    "logging.debug('This message should go to the log file')\n",
    "logging.info('So should this')\n",
    "logging.warning('And this, too')"
   ]
  },
  {
   "cell_type": "code",
   "execution_count": 4,
   "metadata": {
    "collapsed": false
   },
   "outputs": [
    {
     "name": "stdout",
     "output_type": "stream",
     "text": [
      "DEBUG:root:This message should go to the log file\r\n",
      "INFO:root:So should this\r\n",
      "WARNING:root:And this, too\r\n"
     ]
    }
   ],
   "source": [
    "cat example.log"
   ]
  },
  {
   "cell_type": "markdown",
   "metadata": {},
   "source": [
    "### 改变`Log`输出格式  \n",
    "\n",
    "通过`format`参数，可以定制写入`log`文件的格式。"
   ]
  },
  {
   "cell_type": "code",
   "execution_count": 5,
   "metadata": {
    "collapsed": true
   },
   "outputs": [],
   "source": [
    "import logging\n",
    "logging.basicConfig(format='%(levelname)s:%(message)s',level=logging.DEBUG)\n",
    "logging.debug('This message should appear on the console')\n",
    "logging.info('So should this')\n",
    "logging.warning('And this, too')"
   ]
  },
  {
   "cell_type": "markdown",
   "metadata": {},
   "source": [
    "DEBUG:This message should appear on the console  \n",
    "INFO:So should this  \n",
    "WARNING:And this, too  "
   ]
  },
  {
   "cell_type": "markdown",
   "metadata": {},
   "source": [
    "### 记录时间\n",
    "\n",
    "通过`datafmt`参数，可以格式化输出`log`的时间。"
   ]
  },
  {
   "cell_type": "code",
   "execution_count": 6,
   "metadata": {
    "collapsed": true
   },
   "outputs": [],
   "source": [
    "import logging\n",
    "logging.basicConfig(format='%(asctime)s %(message)s',datefmt='%m/%d/%Y %I:%M:%S %p')\n",
    "logging.warning('is when this event was logged.')"
   ]
  },
  {
   "cell_type": "markdown",
   "metadata": {},
   "source": [
    "07/16/2016 12:10:35 AM is when this event was logged."
   ]
  },
  {
   "cell_type": "markdown",
   "metadata": {},
   "source": [
    "### 更丰富的`Log`控制\n",
    "\n",
    "上面的代码大部分是利用默认配置，其实我们自定义更多。比如把输出到`terminal`和`log.txt`文件里。  \n",
    "\n",
    "首先理解几个概念是有用的。  \n",
    "- `Logger` 记录器，暴露了应用程序代码能直接使用的接口。\n",
    "- `Handler` 处理器，将（记录器产生的）日志记录发送至合适的目的地。\n",
    "- `Filter` 过滤器，提供了更好的粒度控制，它可以决定输出哪些日志记录。\n",
    "- `Formatter` 格式化器，指明了最终输出中日志记录的布局。\n"
   ]
  },
  {
   "cell_type": "markdown",
   "metadata": {},
   "source": [
    "首先，创建一个`logger`，记录器，然后给其添加不同的`handler`，输出到不同的渠道。"
   ]
  },
  {
   "cell_type": "code",
   "execution_count": 7,
   "metadata": {
    "collapsed": false
   },
   "outputs": [
    {
     "name": "stderr",
     "output_type": "stream",
     "text": [
      "2016-07-18 21:43:14,648 - my_logger - DEBUG - Debug\n",
      "2016-07-18 21:43:14,650 - my_logger - INFO - Info\n"
     ]
    }
   ],
   "source": [
    "import logging\n",
    "# create logger with name\n",
    "# if not specified, it will be root\n",
    "logger = logging.getLogger('my_logger')\n",
    "logger.setLevel(logging.DEBUG)\n",
    "\n",
    "# create a handler, write to log.txt\n",
    "# logging.FileHandler(self, filename, mode='a', encoding=None, delay=0)\n",
    "# A handler class which writes formatted logging records to disk files.\n",
    "fh = logging.FileHandler('log.txt')\n",
    "fh.setLevel(logging.DEBUG)\n",
    "\n",
    "# create another handler, for stdout in terminal\n",
    "# A handler class which writes logging records to a stream\n",
    "sh = logging.StreamHandler()\n",
    "sh.setLevel(logging.DEBUG)\n",
    "\n",
    "# set formatter\n",
    "formatter = logging.Formatter('%(asctime)s - %(name)s - %(levelname)s - %(message)s')\n",
    "fh.setFormatter(formatter)\n",
    "sh.setFormatter(formatter)\n",
    "\n",
    "# add handler to logger\n",
    "logger.addHandler(fh)\n",
    "logger.addHandler(sh)\n",
    "\n",
    "# log it\n",
    "logger.debug('Debug')\n",
    "logger.info('Info')"
   ]
  },
  {
   "cell_type": "markdown",
   "metadata": {
    "collapsed": true
   },
   "source": [
    "### Ref:\n",
    "\n",
    "- [官方文档](https://docs.python.org/2.7/howto/logging.html)\n",
    "- [Python Module of the Week](https://pymotw.com/2/logging/)\n",
    "- [Good logging practice in python](http://victorlin.me/posts/2012/08/26/good-logging-practice-in-python)"
   ]
  }
 ],
 "metadata": {
  "kernelspec": {
   "display_name": "Python 2",
   "language": "python",
   "name": "python2"
  },
  "language_info": {
   "codemirror_mode": {
    "name": "ipython",
    "version": 2
   },
   "file_extension": ".py",
   "mimetype": "text/x-python",
   "name": "python",
   "nbconvert_exporter": "python",
   "pygments_lexer": "ipython2",
   "version": "2.7.11"
  }
 },
 "nbformat": 4,
 "nbformat_minor": 0
}
